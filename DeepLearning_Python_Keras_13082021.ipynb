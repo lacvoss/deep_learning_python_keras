{
  "nbformat": 4,
  "nbformat_minor": 0,
  "metadata": {
    "colab": {
      "name": "DeepLearning_Python_Keras_13082021.ipynb",
      "provenance": [],
      "collapsed_sections": [],
      "authorship_tag": "ABX9TyNJJTRAeMkXme73oV086WB4",
      "include_colab_link": true
    },
    "kernelspec": {
      "name": "python3",
      "display_name": "Python 3"
    },
    "language_info": {
      "name": "python"
    }
  },
  "cells": [
    {
      "cell_type": "markdown",
      "metadata": {
        "id": "view-in-github",
        "colab_type": "text"
      },
      "source": [
        "<a href=\"https://colab.research.google.com/github/lacvoss/deep_learning_python_keras/blob/main/DeepLearning_Python_Keras_13082021.ipynb\" target=\"_parent\"><img src=\"https://colab.research.google.com/assets/colab-badge.svg\" alt=\"Open In Colab\"/></a>"
      ]
    },
    {
      "cell_type": "code",
      "metadata": {
        "colab": {
          "base_uri": "https://localhost:8080/"
        },
        "id": "feo-7X9XclV3",
        "outputId": "c573a64b-65d1-4883-a214-feec7b0e5378"
      },
      "source": [
        "# Tensorflow ( https://playground.tensorflow.org/  )\n",
        "# Keras\n",
        "# Redes Neurais\n",
        "\n",
        "# Glossário de Python\n",
        "\n",
        "# Variáveis\n",
        "numero = 20\n",
        "print(numero)\n",
        "\n",
        "#Listas\n",
        "lista = [10,20,30]\n",
        "print(lista, type(lista))\n",
        "\n",
        "# ALterara valor de um elemento da lista\n",
        "lista[1] = 99\n",
        "\n",
        "elemento_da_lista = lista[0]\n",
        "qtd_elementos_lista = len(lista)\n",
        "print(qtd_elementos_lista)\n",
        "print(lista)\n",
        "\n",
        "# Tupla\n",
        "tupla = (50, 60, 85)\n",
        "print(tupla, type(tupla))\n",
        "tupla2 = 20, 30, 40\n",
        "print(tupla2, type(tupla2))\n",
        "\n",
        "# Acessando elemento da tupla\n",
        "elemento_da_tupla = tupla[0]\n",
        "print(elemento_da_tupla, type(elemento_da_tupla))\n",
        "\n",
        "# Tupla vs Lista\n",
        "# Tupla não pode ser modificada\n",
        "# Tupla para  Lista\n",
        "listaT = list(tupla)\n",
        "# Lista para tupla\n",
        "tuplaL = tuple(listaT)"
      ],
      "execution_count": 10,
      "outputs": [
        {
          "output_type": "stream",
          "text": [
            "20\n",
            "[10, 20, 30] <class 'list'>\n",
            "3\n",
            "[10, 99, 30]\n",
            "(50, 60, 85) <class 'tuple'>\n",
            "(20, 30, 40) <class 'tuple'>\n",
            "50 <class 'int'>\n"
          ],
          "name": "stdout"
        }
      ]
    }
  ]
}