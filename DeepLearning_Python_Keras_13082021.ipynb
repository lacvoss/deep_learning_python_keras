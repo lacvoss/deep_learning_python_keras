{
  "nbformat": 4,
  "nbformat_minor": 0,
  "metadata": {
    "colab": {
      "name": "DeepLearning_Python_Keras_13082021.ipynb",
      "provenance": [],
      "collapsed_sections": [],
      "authorship_tag": "ABX9TyOA5HZwFDNXZbfvou+/idMt",
      "include_colab_link": true
    },
    "kernelspec": {
      "name": "python3",
      "display_name": "Python 3"
    },
    "language_info": {
      "name": "python"
    }
  },
  "cells": [
    {
      "cell_type": "markdown",
      "metadata": {
        "id": "view-in-github",
        "colab_type": "text"
      },
      "source": [
        "<a href=\"https://colab.research.google.com/github/lacvoss/deep_learning_python_keras/blob/main/DeepLearning_Python_Keras_13082021.ipynb\" target=\"_parent\"><img src=\"https://colab.research.google.com/assets/colab-badge.svg\" alt=\"Open In Colab\"/></a>"
      ]
    },
    {
      "cell_type": "code",
      "metadata": {
        "id": "feo-7X9XclV3"
      },
      "source": [
        "# Tensorflow ( https://playground.tensorflow.org/  )\n",
        "# https://www.tensorflow.org/learn?hl=pt-br\n",
        "# Keras\n",
        "# Redes Neurais\n",
        "\n",
        "# Glossário de Python\n",
        "\n",
        "# Variáveis\n",
        "numero = 20\n",
        "print(numero)\n",
        "\n",
        "#Listas\n",
        "lista = [10,20,30]\n",
        "print(lista, type(lista))\n",
        "\n",
        "# ALterara valor de um elemento da lista\n",
        "lista[1] = 99\n",
        "\n",
        "elemento_da_lista = lista[0]\n",
        "qtd_elementos_lista = len(lista)\n",
        "print(qtd_elementos_lista)\n",
        "print(lista)\n",
        "\n",
        "# Tupla\n",
        "tupla = (50, 60, 85)\n",
        "print(tupla, type(tupla))\n",
        "tupla2 = 20, 30, 40\n",
        "print(tupla2, type(tupla2))\n",
        "\n",
        "# Acessando elemento da tupla\n",
        "elemento_da_tupla = tupla[0]\n",
        "print(elemento_da_tupla, type(elemento_da_tupla))\n",
        "\n",
        "# Tupla vs Lista\n",
        "# Tupla não pode ser modificada\n",
        "# Tupla para  Lista\n",
        "listaT = list(tupla)\n",
        "# Lista para tupla\n",
        "tuplaL = tuple(listaT)"
      ],
      "execution_count": null,
      "outputs": []
    },
    {
      "cell_type": "code",
      "metadata": {
        "id": "E49Sg7UEi2zl"
      },
      "source": [
        "# Nova Célula\n",
        "\n",
        "print(numero)"
      ],
      "execution_count": null,
      "outputs": []
    },
    {
      "cell_type": "code",
      "metadata": {
        "id": "ypyv9JcfkeS7"
      },
      "source": [
        "# Importar Tensorflow, Keras e todas as ferramentas/bibliotecas que precisamos!\n",
        "\n",
        "from tensorflow import keras # Importa a biblioteca Keras\n",
        "from keras.datasets import mnist # Base de Dados MNIST - 60k img treino, 10k img teste\n",
        "from tensorflow.python.keras import Sequential # Arquitetura da nossa rede neural\n",
        "from tensorflow.python.keras.layers import Dense, Dropout # Neurônio (base da rede) e Regularizador (evita overfitting)\n",
        "from tensorflow.compat.v1.keras.optimizers import RMSprop # Otimizador (back propagation)"
      ],
      "execution_count": 3,
      "outputs": []
    },
    {
      "cell_type": "code",
      "metadata": {
        "id": "mEuAUPHGmgel"
      },
      "source": [
        "(x_treino, y_treino), (x_teste, y_teste) = mnist.load_data()\n",
        "\n",
        "# X_Treino -> 60k imagens, 28x28 pixels\n",
        "# Y_Treino -> 60k labels, contendo o número que está desenhado na imagem\n",
        "\n",
        "# X_Teste -> 10k imagens, 28x28 pixels\n",
        "# Y_Teste -> 10k labels, contendo o número que está desenhado na imagem"
      ],
      "execution_count": null,
      "outputs": []
    },
    {
      "cell_type": "code",
      "metadata": {
        "id": "udNgTLUKng0D"
      },
      "source": [
        "# Após importar os dados, é importante dar uma analisada para ver o que temos no dataset\n",
        "# e como ele está estruturado\n",
        "\n",
        "print(\"Quantidade de imagens para treino:\", len(x_treino))\n",
        "\n",
        "print(\"Quantidade de imagens para teste:\", len(x_teste))\n",
        "\n",
        "print(\"Tipo de x_treino:\", type(x_treino))\n",
        "\n",
        "primeira_imagem = x_treino[0]\n",
        "\n",
        "representacao_primeira_imagem = y_treino[0]\n",
        "\n",
        "print(\"O que a imagem 0 de treino representa?\", representacao_primeira_imagem)\n",
        "\n",
        "print(\"Formato da primeira imagem:\", primeira_imagem.shape, type(primeira_imagem))\n",
        "\n",
        "print(primeira_imagem)"
      ],
      "execution_count": null,
      "outputs": []
    },
    {
      "cell_type": "code",
      "metadata": {
        "colab": {
          "base_uri": "https://localhost:8080/",
          "height": 300
        },
        "id": "OMKakpU-rziy",
        "outputId": "2a39fc19-7cf8-44ae-a61a-a75f93a4559d"
      },
      "source": [
        "import matplotlib.pyplot as plt\n",
        "\n",
        "indice = 0\n",
        "print('A img representa: ', y_treino[indice])\n",
        "plt.imshow(x_treino[indice], cmap=plt.cm.binary)"
      ],
      "execution_count": 10,
      "outputs": [
        {
          "output_type": "stream",
          "text": [
            "A img representa:  5\n"
          ],
          "name": "stdout"
        },
        {
          "output_type": "execute_result",
          "data": {
            "text/plain": [
              "<matplotlib.image.AxesImage at 0x7f68315beb90>"
            ]
          },
          "metadata": {
            "tags": []
          },
          "execution_count": 10
        },
        {
          "output_type": "display_data",
          "data": {
            "image/png": "[encoded data removed]",
            "text/plain": [
              "<Figure size 432x288 with 1 Axes>"
            ]
          },
          "metadata": {
            "tags": [],
            "needs_background": "light"
          }
        }
      ]
    }
  ]
}